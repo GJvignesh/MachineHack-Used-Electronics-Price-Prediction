{
 "cells": [
  {
   "cell_type": "markdown",
   "metadata": {},
   "source": [
    "# MachineHack - Used Electronics Price Prediction: Weekend Hackathon #7"
   ]
  },
  {
   "cell_type": "markdown",
   "metadata": {},
   "source": [
    "## Solution - Rishi Raj Gupta (LeaderBoard - 10th rank)"
   ]
  },
  {
   "cell_type": "markdown",
   "metadata": {},
   "source": [
    "We live in a world that is driven by technology and electronic devices as gadgets have become a part of our daily life. It is near impossible to think of a world without smartphones or tablets. Like many kinds of goods or products, used electronic devices have a good demand in our country. In this hackathon, we challenge the data science community to predict the price of used electronic devices based on certain factors.\n",
    "\n",
    "Given are 6 distinguishing factors that can influence the price of a used device. Your objective as a data scientist is to build a machine learning model that can predict the price of used electronic devices based on the given factors.\n",
    "Data Description:-\n",
    "\n",
    "The unzipped folder will have the following files.\n",
    "\n",
    "    Train.csv –  2326 observations.\n",
    "    Test.csv –  997 observations.\n",
    "    Sample Submission – Sample format for the submission.\n",
    "\n",
    "Target Variable: Price"
   ]
  },
  {
   "cell_type": "code",
   "execution_count": 1,
   "metadata": {},
   "outputs": [],
   "source": [
    "# Importing all libraries\n",
    "\n",
    "import pandas as pd\n",
    "import numpy as np\n",
    "import matplotlib.pyplot as plt\n",
    "import seaborn as sns\n",
    "import os, re, string, warnings\n",
    "from sklearn.feature_extraction.text import CountVectorizer\n",
    "from sklearn.model_selection import KFold\n",
    "from sklearn.metrics import r2_score, mean_squared_error, make_scorer, mean_squared_error\n",
    "import xgboost as xgb\n",
    "from sklearn.preprocessing import LabelEncoder\n",
    "le = LabelEncoder()\n",
    "\n",
    "\n",
    "warnings.filterwarnings(action = 'ignore')\n",
    "train = pd.read_csv('Train.csv')\n",
    "test = pd.read_csv('Test.csv')\n",
    "sample = pd.read_excel('Sample_Submission.xlsx')"
   ]
  },
  {
   "cell_type": "code",
   "execution_count": 2,
   "metadata": {},
   "outputs": [
    {
     "data": {
      "text/html": [
       "<div>\n",
       "<style scoped>\n",
       "    .dataframe tbody tr th:only-of-type {\n",
       "        vertical-align: middle;\n",
       "    }\n",
       "\n",
       "    .dataframe tbody tr th {\n",
       "        vertical-align: top;\n",
       "    }\n",
       "\n",
       "    .dataframe thead th {\n",
       "        text-align: right;\n",
       "    }\n",
       "</style>\n",
       "<table border=\"1\" class=\"dataframe\">\n",
       "  <thead>\n",
       "    <tr style=\"text-align: right;\">\n",
       "      <th></th>\n",
       "      <th>Brand</th>\n",
       "      <th>Model_Info</th>\n",
       "      <th>Additional_Description</th>\n",
       "      <th>Locality</th>\n",
       "      <th>City</th>\n",
       "      <th>State</th>\n",
       "      <th>Price</th>\n",
       "    </tr>\n",
       "  </thead>\n",
       "  <tbody>\n",
       "    <tr>\n",
       "      <th>0</th>\n",
       "      <td>1</td>\n",
       "      <td>name0 name234 64gb space grey</td>\n",
       "      <td>1yesr old mobile number 999two905two99 bill c...</td>\n",
       "      <td>878</td>\n",
       "      <td>8</td>\n",
       "      <td>2</td>\n",
       "      <td>15000</td>\n",
       "    </tr>\n",
       "    <tr>\n",
       "      <th>1</th>\n",
       "      <td>1</td>\n",
       "      <td>phone 7 name42 name453 new condition box acce...</td>\n",
       "      <td>101004800 1010065900 7000</td>\n",
       "      <td>1081</td>\n",
       "      <td>4</td>\n",
       "      <td>0</td>\n",
       "      <td>18800</td>\n",
       "    </tr>\n",
       "    <tr>\n",
       "      <th>2</th>\n",
       "      <td>1</td>\n",
       "      <td>name0 x 256gb leess used good condition</td>\n",
       "      <td>1010010000 seperate screen guard 3 back cover...</td>\n",
       "      <td>495</td>\n",
       "      <td>11</td>\n",
       "      <td>4</td>\n",
       "      <td>50000</td>\n",
       "    </tr>\n",
       "    <tr>\n",
       "      <th>3</th>\n",
       "      <td>1</td>\n",
       "      <td>name0 6s plus 64 gb space grey</td>\n",
       "      <td>without 1010020100 id 1010010300 colour 10100...</td>\n",
       "      <td>287</td>\n",
       "      <td>10</td>\n",
       "      <td>7</td>\n",
       "      <td>16500</td>\n",
       "    </tr>\n",
       "    <tr>\n",
       "      <th>4</th>\n",
       "      <td>1</td>\n",
       "      <td>phone 7 sealed pack brand new factory outet p...</td>\n",
       "      <td>101008700 10100000 xs max 64 gb made 10100850...</td>\n",
       "      <td>342</td>\n",
       "      <td>4</td>\n",
       "      <td>0</td>\n",
       "      <td>26499</td>\n",
       "    </tr>\n",
       "  </tbody>\n",
       "</table>\n",
       "</div>"
      ],
      "text/plain": [
       "   Brand                                         Model_Info  \\\n",
       "0      1                      name0 name234 64gb space grey   \n",
       "1      1   phone 7 name42 name453 new condition box acce...   \n",
       "2      1            name0 x 256gb leess used good condition   \n",
       "3      1                     name0 6s plus 64 gb space grey   \n",
       "4      1   phone 7 sealed pack brand new factory outet p...   \n",
       "\n",
       "                              Additional_Description  Locality  City  State  \\\n",
       "0   1yesr old mobile number 999two905two99 bill c...       878     8      2   \n",
       "1                          101004800 1010065900 7000      1081     4      0   \n",
       "2   1010010000 seperate screen guard 3 back cover...       495    11      4   \n",
       "3   without 1010020100 id 1010010300 colour 10100...       287    10      7   \n",
       "4   101008700 10100000 xs max 64 gb made 10100850...       342     4      0   \n",
       "\n",
       "   Price  \n",
       "0  15000  \n",
       "1  18800  \n",
       "2  50000  \n",
       "3  16500  \n",
       "4  26499  "
      ]
     },
     "execution_count": 2,
     "metadata": {},
     "output_type": "execute_result"
    }
   ],
   "source": [
    "train.head()"
   ]
  },
  {
   "cell_type": "code",
   "execution_count": 3,
   "metadata": {},
   "outputs": [
    {
     "data": {
      "text/html": [
       "<div>\n",
       "<style scoped>\n",
       "    .dataframe tbody tr th:only-of-type {\n",
       "        vertical-align: middle;\n",
       "    }\n",
       "\n",
       "    .dataframe tbody tr th {\n",
       "        vertical-align: top;\n",
       "    }\n",
       "\n",
       "    .dataframe thead th {\n",
       "        text-align: right;\n",
       "    }\n",
       "</style>\n",
       "<table border=\"1\" class=\"dataframe\">\n",
       "  <thead>\n",
       "    <tr style=\"text-align: right;\">\n",
       "      <th></th>\n",
       "      <th>Brand</th>\n",
       "      <th>Model_Info</th>\n",
       "      <th>Additional_Description</th>\n",
       "      <th>Locality</th>\n",
       "      <th>City</th>\n",
       "      <th>State</th>\n",
       "    </tr>\n",
       "  </thead>\n",
       "  <tbody>\n",
       "    <tr>\n",
       "      <th>0</th>\n",
       "      <td>1</td>\n",
       "      <td>name0 55s66s66s778xxsxsmax etc</td>\n",
       "      <td>good condition 11months old single scratch we...</td>\n",
       "      <td>570</td>\n",
       "      <td>11</td>\n",
       "      <td>4</td>\n",
       "    </tr>\n",
       "    <tr>\n",
       "      <th>1</th>\n",
       "      <td>1</td>\n",
       "      <td>slightly used excellent condition name0 5 sale</td>\n",
       "      <td>101008700 1010030600 1010034300 10100192200 1...</td>\n",
       "      <td>762</td>\n",
       "      <td>8</td>\n",
       "      <td>2</td>\n",
       "    </tr>\n",
       "    <tr>\n",
       "      <th>2</th>\n",
       "      <td>1</td>\n",
       "      <td>name0 sx ios12 top letast model bill call</td>\n",
       "      <td>1010017300 delivery</td>\n",
       "      <td>60</td>\n",
       "      <td>13</td>\n",
       "      <td>5</td>\n",
       "    </tr>\n",
       "    <tr>\n",
       "      <th>3</th>\n",
       "      <td>1</td>\n",
       "      <td>name87 name0 x 64gb going lowest 41900</td>\n",
       "      <td>phone 1010023400 64 gb excellent condition sale</td>\n",
       "      <td>640</td>\n",
       "      <td>15</td>\n",
       "      <td>5</td>\n",
       "    </tr>\n",
       "    <tr>\n",
       "      <th>4</th>\n",
       "      <td>1</td>\n",
       "      <td>name0 5s proper condition one handedly used</td>\n",
       "      <td>full kit available 10100248300 condition 4gb ...</td>\n",
       "      <td>816</td>\n",
       "      <td>2</td>\n",
       "      <td>6</td>\n",
       "    </tr>\n",
       "  </tbody>\n",
       "</table>\n",
       "</div>"
      ],
      "text/plain": [
       "   Brand                                       Model_Info  \\\n",
       "0      1                   name0 55s66s66s778xxsxsmax etc   \n",
       "1      1   slightly used excellent condition name0 5 sale   \n",
       "2      1        name0 sx ios12 top letast model bill call   \n",
       "3      1           name87 name0 x 64gb going lowest 41900   \n",
       "4      1      name0 5s proper condition one handedly used   \n",
       "\n",
       "                              Additional_Description  Locality  City  State  \n",
       "0   good condition 11months old single scratch we...       570    11      4  \n",
       "1   101008700 1010030600 1010034300 10100192200 1...       762     8      2  \n",
       "2                                1010017300 delivery        60    13      5  \n",
       "3    phone 1010023400 64 gb excellent condition sale       640    15      5  \n",
       "4   full kit available 10100248300 condition 4gb ...       816     2      6  "
      ]
     },
     "execution_count": 3,
     "metadata": {},
     "output_type": "execute_result"
    }
   ],
   "source": [
    "test.head()"
   ]
  },
  {
   "cell_type": "code",
   "execution_count": 4,
   "metadata": {},
   "outputs": [
    {
     "data": {
      "text/html": [
       "<div>\n",
       "<style scoped>\n",
       "    .dataframe tbody tr th:only-of-type {\n",
       "        vertical-align: middle;\n",
       "    }\n",
       "\n",
       "    .dataframe tbody tr th {\n",
       "        vertical-align: top;\n",
       "    }\n",
       "\n",
       "    .dataframe thead th {\n",
       "        text-align: right;\n",
       "    }\n",
       "</style>\n",
       "<table border=\"1\" class=\"dataframe\">\n",
       "  <thead>\n",
       "    <tr style=\"text-align: right;\">\n",
       "      <th></th>\n",
       "      <th>Brand</th>\n",
       "      <th>Model_Info</th>\n",
       "      <th>Additional_Description</th>\n",
       "      <th>Locality</th>\n",
       "      <th>City</th>\n",
       "      <th>State</th>\n",
       "      <th>Price</th>\n",
       "    </tr>\n",
       "  </thead>\n",
       "  <tbody>\n",
       "    <tr>\n",
       "      <th>count</th>\n",
       "      <td>2326.000000</td>\n",
       "      <td>2326</td>\n",
       "      <td>2326</td>\n",
       "      <td>2326.000000</td>\n",
       "      <td>2326.000000</td>\n",
       "      <td>2326.000000</td>\n",
       "      <td>2326.000000</td>\n",
       "    </tr>\n",
       "    <tr>\n",
       "      <th>unique</th>\n",
       "      <td>NaN</td>\n",
       "      <td>2037</td>\n",
       "      <td>2094</td>\n",
       "      <td>NaN</td>\n",
       "      <td>NaN</td>\n",
       "      <td>NaN</td>\n",
       "      <td>NaN</td>\n",
       "    </tr>\n",
       "    <tr>\n",
       "      <th>top</th>\n",
       "      <td>NaN</td>\n",
       "      <td>name0 7 32gb</td>\n",
       "      <td>description</td>\n",
       "      <td>NaN</td>\n",
       "      <td>NaN</td>\n",
       "      <td>NaN</td>\n",
       "      <td>NaN</td>\n",
       "    </tr>\n",
       "    <tr>\n",
       "      <th>freq</th>\n",
       "      <td>NaN</td>\n",
       "      <td>12</td>\n",
       "      <td>102</td>\n",
       "      <td>NaN</td>\n",
       "      <td>NaN</td>\n",
       "      <td>NaN</td>\n",
       "      <td>NaN</td>\n",
       "    </tr>\n",
       "    <tr>\n",
       "      <th>mean</th>\n",
       "      <td>1.047291</td>\n",
       "      <td>NaN</td>\n",
       "      <td>NaN</td>\n",
       "      <td>538.894239</td>\n",
       "      <td>7.294067</td>\n",
       "      <td>3.693465</td>\n",
       "      <td>25562.137145</td>\n",
       "    </tr>\n",
       "    <tr>\n",
       "      <th>std</th>\n",
       "      <td>0.396109</td>\n",
       "      <td>NaN</td>\n",
       "      <td>NaN</td>\n",
       "      <td>333.355186</td>\n",
       "      <td>5.408113</td>\n",
       "      <td>2.194072</td>\n",
       "      <td>21316.854497</td>\n",
       "    </tr>\n",
       "    <tr>\n",
       "      <th>min</th>\n",
       "      <td>0.000000</td>\n",
       "      <td>NaN</td>\n",
       "      <td>NaN</td>\n",
       "      <td>0.000000</td>\n",
       "      <td>0.000000</td>\n",
       "      <td>0.000000</td>\n",
       "      <td>399.000000</td>\n",
       "    </tr>\n",
       "    <tr>\n",
       "      <th>25%</th>\n",
       "      <td>1.000000</td>\n",
       "      <td>NaN</td>\n",
       "      <td>NaN</td>\n",
       "      <td>249.000000</td>\n",
       "      <td>2.000000</td>\n",
       "      <td>2.000000</td>\n",
       "      <td>12000.000000</td>\n",
       "    </tr>\n",
       "    <tr>\n",
       "      <th>50%</th>\n",
       "      <td>1.000000</td>\n",
       "      <td>NaN</td>\n",
       "      <td>NaN</td>\n",
       "      <td>534.000000</td>\n",
       "      <td>8.000000</td>\n",
       "      <td>4.000000</td>\n",
       "      <td>18945.000000</td>\n",
       "    </tr>\n",
       "    <tr>\n",
       "      <th>75%</th>\n",
       "      <td>1.000000</td>\n",
       "      <td>NaN</td>\n",
       "      <td>NaN</td>\n",
       "      <td>814.000000</td>\n",
       "      <td>11.000000</td>\n",
       "      <td>5.000000</td>\n",
       "      <td>30974.250000</td>\n",
       "    </tr>\n",
       "    <tr>\n",
       "      <th>max</th>\n",
       "      <td>3.000000</td>\n",
       "      <td>NaN</td>\n",
       "      <td>NaN</td>\n",
       "      <td>1191.000000</td>\n",
       "      <td>17.000000</td>\n",
       "      <td>8.000000</td>\n",
       "      <td>129998.000000</td>\n",
       "    </tr>\n",
       "  </tbody>\n",
       "</table>\n",
       "</div>"
      ],
      "text/plain": [
       "              Brand     Model_Info Additional_Description     Locality  \\\n",
       "count   2326.000000           2326                   2326  2326.000000   \n",
       "unique          NaN           2037                   2094          NaN   \n",
       "top             NaN   name0 7 32gb            description          NaN   \n",
       "freq            NaN             12                    102          NaN   \n",
       "mean       1.047291            NaN                    NaN   538.894239   \n",
       "std        0.396109            NaN                    NaN   333.355186   \n",
       "min        0.000000            NaN                    NaN     0.000000   \n",
       "25%        1.000000            NaN                    NaN   249.000000   \n",
       "50%        1.000000            NaN                    NaN   534.000000   \n",
       "75%        1.000000            NaN                    NaN   814.000000   \n",
       "max        3.000000            NaN                    NaN  1191.000000   \n",
       "\n",
       "               City        State          Price  \n",
       "count   2326.000000  2326.000000    2326.000000  \n",
       "unique          NaN          NaN            NaN  \n",
       "top             NaN          NaN            NaN  \n",
       "freq            NaN          NaN            NaN  \n",
       "mean       7.294067     3.693465   25562.137145  \n",
       "std        5.408113     2.194072   21316.854497  \n",
       "min        0.000000     0.000000     399.000000  \n",
       "25%        2.000000     2.000000   12000.000000  \n",
       "50%        8.000000     4.000000   18945.000000  \n",
       "75%       11.000000     5.000000   30974.250000  \n",
       "max       17.000000     8.000000  129998.000000  "
      ]
     },
     "execution_count": 4,
     "metadata": {},
     "output_type": "execute_result"
    }
   ],
   "source": [
    "train.describe(include = ['O','F','int64'])"
   ]
  },
  {
   "cell_type": "code",
   "execution_count": 5,
   "metadata": {},
   "outputs": [
    {
     "data": {
      "text/html": [
       "<div>\n",
       "<style scoped>\n",
       "    .dataframe tbody tr th:only-of-type {\n",
       "        vertical-align: middle;\n",
       "    }\n",
       "\n",
       "    .dataframe tbody tr th {\n",
       "        vertical-align: top;\n",
       "    }\n",
       "\n",
       "    .dataframe thead th {\n",
       "        text-align: right;\n",
       "    }\n",
       "</style>\n",
       "<table border=\"1\" class=\"dataframe\">\n",
       "  <thead>\n",
       "    <tr style=\"text-align: right;\">\n",
       "      <th></th>\n",
       "      <th>Brand</th>\n",
       "      <th>Model_Info</th>\n",
       "      <th>Additional_Description</th>\n",
       "      <th>Locality</th>\n",
       "      <th>City</th>\n",
       "      <th>State</th>\n",
       "    </tr>\n",
       "  </thead>\n",
       "  <tbody>\n",
       "    <tr>\n",
       "      <th>count</th>\n",
       "      <td>997.000000</td>\n",
       "      <td>997</td>\n",
       "      <td>997</td>\n",
       "      <td>997.000000</td>\n",
       "      <td>997.000000</td>\n",
       "      <td>997.000000</td>\n",
       "    </tr>\n",
       "    <tr>\n",
       "      <th>unique</th>\n",
       "      <td>NaN</td>\n",
       "      <td>918</td>\n",
       "      <td>913</td>\n",
       "      <td>NaN</td>\n",
       "      <td>NaN</td>\n",
       "      <td>NaN</td>\n",
       "    </tr>\n",
       "    <tr>\n",
       "      <th>top</th>\n",
       "      <td>NaN</td>\n",
       "      <td>name0 7 32 gb</td>\n",
       "      <td>description</td>\n",
       "      <td>NaN</td>\n",
       "      <td>NaN</td>\n",
       "      <td>NaN</td>\n",
       "    </tr>\n",
       "    <tr>\n",
       "      <th>freq</th>\n",
       "      <td>NaN</td>\n",
       "      <td>6</td>\n",
       "      <td>37</td>\n",
       "      <td>NaN</td>\n",
       "      <td>NaN</td>\n",
       "      <td>NaN</td>\n",
       "    </tr>\n",
       "    <tr>\n",
       "      <th>mean</th>\n",
       "      <td>1.038114</td>\n",
       "      <td>NaN</td>\n",
       "      <td>NaN</td>\n",
       "      <td>560.156469</td>\n",
       "      <td>7.792377</td>\n",
       "      <td>3.754263</td>\n",
       "    </tr>\n",
       "    <tr>\n",
       "      <th>std</th>\n",
       "      <td>0.393919</td>\n",
       "      <td>NaN</td>\n",
       "      <td>NaN</td>\n",
       "      <td>331.358688</td>\n",
       "      <td>5.263539</td>\n",
       "      <td>2.171094</td>\n",
       "    </tr>\n",
       "    <tr>\n",
       "      <th>min</th>\n",
       "      <td>0.000000</td>\n",
       "      <td>NaN</td>\n",
       "      <td>NaN</td>\n",
       "      <td>0.000000</td>\n",
       "      <td>0.000000</td>\n",
       "      <td>0.000000</td>\n",
       "    </tr>\n",
       "    <tr>\n",
       "      <th>25%</th>\n",
       "      <td>1.000000</td>\n",
       "      <td>NaN</td>\n",
       "      <td>NaN</td>\n",
       "      <td>290.000000</td>\n",
       "      <td>2.000000</td>\n",
       "      <td>2.000000</td>\n",
       "    </tr>\n",
       "    <tr>\n",
       "      <th>50%</th>\n",
       "      <td>1.000000</td>\n",
       "      <td>NaN</td>\n",
       "      <td>NaN</td>\n",
       "      <td>547.000000</td>\n",
       "      <td>8.000000</td>\n",
       "      <td>4.000000</td>\n",
       "    </tr>\n",
       "    <tr>\n",
       "      <th>75%</th>\n",
       "      <td>1.000000</td>\n",
       "      <td>NaN</td>\n",
       "      <td>NaN</td>\n",
       "      <td>831.000000</td>\n",
       "      <td>13.000000</td>\n",
       "      <td>5.000000</td>\n",
       "    </tr>\n",
       "    <tr>\n",
       "      <th>max</th>\n",
       "      <td>3.000000</td>\n",
       "      <td>NaN</td>\n",
       "      <td>NaN</td>\n",
       "      <td>1190.000000</td>\n",
       "      <td>19.000000</td>\n",
       "      <td>7.000000</td>\n",
       "    </tr>\n",
       "  </tbody>\n",
       "</table>\n",
       "</div>"
      ],
      "text/plain": [
       "             Brand      Model_Info Additional_Description     Locality  \\\n",
       "count   997.000000             997                    997   997.000000   \n",
       "unique         NaN             918                    913          NaN   \n",
       "top            NaN   name0 7 32 gb            description          NaN   \n",
       "freq           NaN               6                     37          NaN   \n",
       "mean      1.038114             NaN                    NaN   560.156469   \n",
       "std       0.393919             NaN                    NaN   331.358688   \n",
       "min       0.000000             NaN                    NaN     0.000000   \n",
       "25%       1.000000             NaN                    NaN   290.000000   \n",
       "50%       1.000000             NaN                    NaN   547.000000   \n",
       "75%       1.000000             NaN                    NaN   831.000000   \n",
       "max       3.000000             NaN                    NaN  1190.000000   \n",
       "\n",
       "              City       State  \n",
       "count   997.000000  997.000000  \n",
       "unique         NaN         NaN  \n",
       "top            NaN         NaN  \n",
       "freq           NaN         NaN  \n",
       "mean      7.792377    3.754263  \n",
       "std       5.263539    2.171094  \n",
       "min       0.000000    0.000000  \n",
       "25%       2.000000    2.000000  \n",
       "50%       8.000000    4.000000  \n",
       "75%      13.000000    5.000000  \n",
       "max      19.000000    7.000000  "
      ]
     },
     "execution_count": 5,
     "metadata": {},
     "output_type": "execute_result"
    }
   ],
   "source": [
    "test.describe(include = ['O','F','int64'])"
   ]
  },
  {
   "cell_type": "code",
   "execution_count": 6,
   "metadata": {},
   "outputs": [
    {
     "name": "stdout",
     "output_type": "stream",
     "text": [
      "<class 'pandas.core.frame.DataFrame'>\n",
      "RangeIndex: 2326 entries, 0 to 2325\n",
      "Data columns (total 7 columns):\n",
      " #   Column                  Non-Null Count  Dtype \n",
      "---  ------                  --------------  ----- \n",
      " 0   Brand                   2326 non-null   int64 \n",
      " 1   Model_Info              2326 non-null   object\n",
      " 2   Additional_Description  2326 non-null   object\n",
      " 3   Locality                2326 non-null   int64 \n",
      " 4   City                    2326 non-null   int64 \n",
      " 5   State                   2326 non-null   int64 \n",
      " 6   Price                   2326 non-null   int64 \n",
      "dtypes: int64(5), object(2)\n",
      "memory usage: 127.3+ KB\n"
     ]
    }
   ],
   "source": [
    "train.info()"
   ]
  },
  {
   "cell_type": "code",
   "execution_count": 7,
   "metadata": {},
   "outputs": [
    {
     "name": "stdout",
     "output_type": "stream",
     "text": [
      "<class 'pandas.core.frame.DataFrame'>\n",
      "RangeIndex: 997 entries, 0 to 996\n",
      "Data columns (total 6 columns):\n",
      " #   Column                  Non-Null Count  Dtype \n",
      "---  ------                  --------------  ----- \n",
      " 0   Brand                   997 non-null    int64 \n",
      " 1   Model_Info              997 non-null    object\n",
      " 2   Additional_Description  997 non-null    object\n",
      " 3   Locality                997 non-null    int64 \n",
      " 4   City                    997 non-null    int64 \n",
      " 5   State                   997 non-null    int64 \n",
      "dtypes: int64(4), object(2)\n",
      "memory usage: 46.9+ KB\n"
     ]
    }
   ],
   "source": [
    "test.info()"
   ]
  },
  {
   "cell_type": "markdown",
   "metadata": {},
   "source": [
    "# Price Adjustment"
   ]
  },
  {
   "cell_type": "markdown",
   "metadata": {},
   "source": [
    "As price is positively skewed. Therefore applying log transformation and using stats to clear outliers"
   ]
  },
  {
   "cell_type": "code",
   "execution_count": 8,
   "metadata": {},
   "outputs": [
    {
     "name": "stdout",
     "output_type": "stream",
     "text": [
      "1.7203759060497708 3.014479296272143\n"
     ]
    },
    {
     "data": {
      "text/plain": [
       "<matplotlib.axes._subplots.AxesSubplot at 0x2605e7e8848>"
      ]
     },
     "execution_count": 8,
     "metadata": {},
     "output_type": "execute_result"
    },
    {
     "data": {
      "image/png": "[encoded data removed]",
      "text/plain": [
       "<Figure size 432x288 with 1 Axes>"
      ]
     },
     "metadata": {
      "needs_background": "light"
     },
     "output_type": "display_data"
    }
   ],
   "source": [
    "print((train.Price).skew(),(train.Price).kurt())\n",
    "sns.distplot((train.Price))"
   ]
  },
  {
   "cell_type": "code",
   "execution_count": 9,
   "metadata": {},
   "outputs": [
    {
     "name": "stdout",
     "output_type": "stream",
     "text": [
      "-0.4337757208441427 0.8136157779119499\n"
     ]
    },
    {
     "data": {
      "text/plain": [
       "<matplotlib.axes._subplots.AxesSubplot at 0x2605efeaec8>"
      ]
     },
     "execution_count": 9,
     "metadata": {},
     "output_type": "execute_result"
    },
    {
     "data": {
      "image/png": "[encoded data removed]",
      "text/plain": [
       "<Figure size 432x288 with 1 Axes>"
      ]
     },
     "metadata": {
      "needs_background": "light"
     },
     "output_type": "display_data"
    }
   ],
   "source": [
    "# After transformation\n",
    "\n",
    "print(np.log1p(train.Price).skew(), np.log1p(train.Price).kurt())\n",
    "sns.distplot(np.log(train.Price))"
   ]
  },
  {
   "cell_type": "code",
   "execution_count": 10,
   "metadata": {},
   "outputs": [],
   "source": [
    "train.Price = np.log1p(train.Price)"
   ]
  },
  {
   "cell_type": "code",
   "execution_count": 11,
   "metadata": {},
   "outputs": [
    {
     "name": "stdout",
     "output_type": "stream",
     "text": [
      "(array([], dtype=int64),)\n",
      "(array([ 184,  382,  465,  522,  543,  552,  920, 1206, 1453, 1528, 1700,\n",
      "       1708, 1721, 1753, 1754, 1864, 2185, 2190, 2201, 2275], dtype=int64),)\n"
     ]
    }
   ],
   "source": [
    "# Removing Outliers \n",
    "\n",
    "q1 = train.Price.quantile(0.25)\n",
    "q3 = train.Price.quantile(0.75)\n",
    "iqr = q3 - q1\n",
    "upper = q3+2*iqr\n",
    "lower = q1-2*iqr\n",
    "print(np.where(train.Price > upper))\n",
    "print(np.where(train.Price < lower))"
   ]
  },
  {
   "cell_type": "code",
   "execution_count": 12,
   "metadata": {},
   "outputs": [],
   "source": [
    "ind = []\n",
    "ind.extend(list(np.where(train.Price < lower)[0]))\n",
    "train.drop(index = ind, inplace = True)\n",
    "train.reset_index(drop = True, inplace = True)"
   ]
  },
  {
   "cell_type": "code",
   "execution_count": 13,
   "metadata": {},
   "outputs": [],
   "source": [
    "# Added flag to indicate train and test data\n",
    "train['is_test'] = 0\n",
    "test['is_test'] = 1"
   ]
  },
  {
   "cell_type": "markdown",
   "metadata": {},
   "source": [
    "# Duplicacy"
   ]
  },
  {
   "cell_type": "markdown",
   "metadata": {},
   "source": [
    "On analysis found that Model_Info columns contains duplicate comments and those duplicate entries have almost same price irrespective of other features. Therefore combined train and test dataframes and then based on duplicate entries filled values in test data set "
   ]
  },
  {
   "cell_type": "code",
   "execution_count": 14,
   "metadata": {},
   "outputs": [],
   "source": [
    "test_dup = set()\n",
    "temp = test[test.Model_Info.duplicated()]\n",
    "temp.reset_index(inplace = True)\n",
    "\n",
    "test_dup.update(test[test.Model_Info.duplicated()].index)\n",
    "test.drop(index = test_dup, inplace = True)\n",
    "\n",
    "df = pd.concat([test,train], axis = 0)\n",
    "df.reset_index(inplace = True)\n",
    "\n",
    "temp2 = df[df.Model_Info.duplicated(keep = False)].sort_values(by = ['Model_Info', 'Price'])\n",
    "null_ind = temp2[temp2.Price.isna()].index\n",
    "val = temp2.Price.fillna(method = 'Ffill')\n",
    "\n",
    "df.loc[null_ind,'Price'] = val[null_ind].values"
   ]
  },
  {
   "cell_type": "code",
   "execution_count": 15,
   "metadata": {},
   "outputs": [],
   "source": [
    "train = df[df.is_test==0]\n",
    "test = df[df.is_test==1]\n",
    "\n",
    "train.reset_index(inplace = True, drop = True)\n",
    "test = pd.concat([test,temp], axis = 0)\n",
    "test = test.set_index('index').sort_index()\n",
    "temp = test[test.Model_Info.duplicated(keep = False)].groupby('Model_Info').Price.fillna(method = 'Ffill')\n",
    "\n",
    "test.loc[temp.index,'Price'] = temp.loc[temp.index].values"
   ]
  },
  {
   "cell_type": "code",
   "execution_count": 16,
   "metadata": {},
   "outputs": [
    {
     "data": {
      "text/plain": [
       "802"
      ]
     },
     "execution_count": 16,
     "metadata": {},
     "output_type": "execute_result"
    }
   ],
   "source": [
    "# Remaining test price which we need to find are : \n",
    "test.Price.isna().sum()"
   ]
  },
  {
   "cell_type": "code",
   "execution_count": 17,
   "metadata": {},
   "outputs": [],
   "source": [
    "# dup_ans will contain price values for test set which  have duplicate entries for Model_info in train set\n",
    "dup_ans = test[test.Price.notnull()].Price\n",
    "test.drop(index = dup_ans.index, inplace = True)"
   ]
  },
  {
   "cell_type": "code",
   "execution_count": 18,
   "metadata": {},
   "outputs": [],
   "source": [
    "# Combining both \n",
    "df = train.append(test, sort = False)"
   ]
  },
  {
   "cell_type": "markdown",
   "metadata": {},
   "source": [
    "# Analysis of each feature"
   ]
  },
  {
   "cell_type": "code",
   "execution_count": 19,
   "metadata": {},
   "outputs": [],
   "source": [
    "df.Brand = df.Brand.astype('category')"
   ]
  },
  {
   "cell_type": "code",
   "execution_count": 20,
   "metadata": {},
   "outputs": [],
   "source": [
    "df.Model_Info = df.Model_Info.str.lower()"
   ]
  },
  {
   "cell_type": "code",
   "execution_count": 21,
   "metadata": {},
   "outputs": [],
   "source": [
    "# converting numbers in string to numeric\n",
    "to_num = {'one':1, 'two':2, 'three':3, 'four':4, 'five':5 ,\n",
    "          'six':6, 'seven':7, 'eight':8, 'nine':9, 'ten': 10, 'eleven': 11, 'twelve':12 }\n",
    "\n",
    "for k in to_num.keys():\n",
    "    df.Model_Info = df.Model_Info.apply(lambda x: re.sub(f' {k} ',f' {to_num[k]} ', x))"
   ]
  },
  {
   "cell_type": "code",
   "execution_count": 22,
   "metadata": {},
   "outputs": [],
   "source": [
    "# Determining year used\n",
    "\n",
    "def day(x):\n",
    "    d = re.search(r'([\\d+])\\s?day',x)\n",
    "    if d is not None :\n",
    "        return(int(d.group(1))/360)\n",
    "    d = re.search(r'([\\d+])\\s?month',x)\n",
    "    if d is not None :\n",
    "        return(int(d.group(1))/12)\n",
    "    d = re.search(r'([\\d+])\\s?year',x)\n",
    "    if d is not None :\n",
    "        return(int(d.group(1)))\n",
    "    \n",
    "df['day_Used'] = df.Model_Info.apply(lambda x: day(x))\n",
    "df.day_Used.fillna(-999, inplace = True)"
   ]
  },
  {
   "cell_type": "code",
   "execution_count": 23,
   "metadata": {},
   "outputs": [],
   "source": [
    "# Ram and Storage for a model \n",
    "\n",
    "df['ram'] = df.Model_Info.str.extract(r'[^\\d](1|2|3|4|5|6|8)\\s?gb')[0]\n",
    "df.ram = df.ram.astype('float')\n",
    "df.ram.fillna(-999, inplace = True)\n",
    "df.ram = le.fit_transform(df.ram)\n",
    "\n",
    "df['storage'] = df.Model_Info.str.extract(r'(16|32|64|128|256|512)\\s?gb')[0]\n",
    "df.storage = df.storage.astype('float')\n",
    "df.storage.fillna(-999, inplace = True)\n",
    "df.storage = le.fit_transform(df.storage)"
   ]
  },
  {
   "cell_type": "code",
   "execution_count": 24,
   "metadata": {},
   "outputs": [],
   "source": [
    "# Determine whether mobile is of special version & Also check whehter it's a watch or not\n",
    "df['is_special'] = df.Model_Info.str.contains(r'(note|pro|plus|max|x\\s?e|x\\s?s)')\n",
    "df['is_watch'] = df.Model_Info.str.contains(r'(watch)')\n",
    "\n",
    "df.is_special.fillna(False, inplace = True)\n",
    "df.is_watch.fillna(False, inplace = True)"
   ]
  },
  {
   "cell_type": "code",
   "execution_count": 25,
   "metadata": {},
   "outputs": [],
   "source": [
    "# Converting most occuring encoded name into their brand\n",
    "\n",
    "df.Model_Info = df.Model_Info.apply(lambda x: re.sub('name0','iphone', x))\n",
    "df.Model_Info = df.Model_Info.apply(lambda x: re.sub('name87','apple_iphone', x))\n",
    "df.Model_Info = df.Model_Info.apply(lambda x: re.sub('name123','iphone', x))\n",
    "\n",
    "df.Model_Info = df.Model_Info.apply(lambda x: re.sub('name615','huawei', x))\n",
    "df.Model_Info = df.Model_Info.apply(lambda x: re.sub('name271','lenovo', x))\n",
    "df.Model_Info = df.Model_Info.apply(lambda x: re.sub('name233','honor', x))\n",
    "df.Model_Info = df.Model_Info.apply(lambda x: re.sub('name229','max', x))"
   ]
  },
  {
   "cell_type": "code",
   "execution_count": 26,
   "metadata": {},
   "outputs": [],
   "source": [
    "# Extracting all iphone model\n",
    "df['iphone_model'] = df.Model_Info.str.extract(r'phone\\s?(3|4\\s?s?|5\\s?c?s?|6\\s?s?\\s?p?|7\\s?p?|8\\s?p?|x\\s?r?s?|11\\s?p?\\s?m?|10|watch\\s?\\d?)')[0]\n",
    "df.iphone_model.replace({'7 ':'7', '7 p':'7p', '8 p':'8p','6s p':'6sp', '5 s':'5s', 'watch ':'watch 3', '10':'x',\n",
    "                         'x ':'x', 'x s':'xs','6 p':'6p', '5 ':'5', '8 ':'8', '11 p':'11p', '5 c':'5c',\n",
    "                         '6 ':'6','6 s':'6s', '6 sp':'6sp','6s ':'6s'}, inplace = True)\n",
    "df.iphone_model.fillna('Not_iphone', inplace = True)\n",
    "df.iphone_model = df.iphone_model.astype('category')"
   ]
  },
  {
   "cell_type": "code",
   "execution_count": 27,
   "metadata": {},
   "outputs": [],
   "source": [
    "# Extracting iphone model like (3,4,5,6,7,8,x,11) irrespective of their upgraded version like (plus, xe, xs, s, c, pro, max)\n",
    "df['model_ver'] = df.iphone_model.apply(lambda x: x[0])"
   ]
  },
  {
   "cell_type": "code",
   "execution_count": 28,
   "metadata": {},
   "outputs": [],
   "source": [
    "# Extracting phone brand\n",
    "\n",
    "df['phone_brand'] = df.Model_Info.str.extract(r'(lenovo|hono|lg|huawei|phone)\\s?[3|4\\s?s?|5\\s*c?s?|6\\s?s?\\s?plus|7\\s?p?|8\\s?p?|xr?s?|11\\s?p|se]')[0]\n",
    "df.phone_brand.fillna('not_known', inplace = True)\n",
    "df.phone_brand = df.phone_brand.astype('category')"
   ]
  },
  {
   "cell_type": "code",
   "execution_count": 29,
   "metadata": {},
   "outputs": [],
   "source": [
    "# Applying CountVec on both Model_Info as well as Additional_Description\n",
    "\n",
    "tfidf = CountVectorizer(ngram_range=(1,2), stop_words='english', max_features=200, lowercase=True)\n",
    "sparse_model = pd.DataFrame(tfidf.fit_transform(df.Model_Info.values).todense(), index = df.index, columns = [a for a in range(200)])\n",
    "sparse_additional = pd.DataFrame(tfidf.fit_transform(df.Additional_Description.values).todense(), index = df.index, columns = [a for a in range(200,400)])\n",
    "df = pd.concat([df, sparse_model, sparse_additional], axis = 1)"
   ]
  },
  {
   "cell_type": "code",
   "execution_count": 30,
   "metadata": {},
   "outputs": [],
   "source": [
    "del df['Model_Info']\n",
    "del df['Additional_Description']\n",
    "del df['index']\n",
    "del df['is_test']\n",
    "\n",
    "train = df[df.Price.notnull()]\n",
    "train.reset_index(drop = True, inplace = True)\n",
    "\n",
    "test = df[df.Price.isnull()]\n",
    "train_label = train.Price\n",
    "del train['Price']\n",
    "del test['Price']\n",
    "\n",
    "train = pd.get_dummies(train, drop_first=True)\n",
    "test = pd.get_dummies(test, drop_first=True)"
   ]
  },
  {
   "cell_type": "code",
   "execution_count": 31,
   "metadata": {},
   "outputs": [
    {
     "data": {
      "text/plain": [
       "((2306, 445), (802, 445))"
      ]
     },
     "execution_count": 31,
     "metadata": {},
     "output_type": "execute_result"
    }
   ],
   "source": [
    "train.shape, test.shape"
   ]
  },
  {
   "cell_type": "markdown",
   "metadata": {},
   "source": [
    "# Model"
   ]
  },
  {
   "cell_type": "code",
   "execution_count": 32,
   "metadata": {},
   "outputs": [],
   "source": [
    "def folds(train, label, model, xg_boost = None, param = None, testset = None, seed = 123, split = 3):\n",
    "    predicted = pd.DataFrame(np.zeros(len(label)))\n",
    "    predicted.columns = ['Answer']\n",
    "    \n",
    "    predicted_test = pd.DataFrame(np.zeros(shape = (len(testset),split)), index = test.index)\n",
    "    predicted_test.columns = [i for i in range(split)]\n",
    "    \n",
    "    rmse = []\n",
    "    r2 = []\n",
    "    \n",
    "    kfold = KFold(n_splits=split, shuffle=True, random_state= seed)\n",
    "    for i, (t_ind, v_ind) in enumerate(kfold.split(train.values)):\n",
    "        xtrain , ytrain = train.loc[t_ind,:], label[t_ind]\n",
    "        xval , yval = train.loc[v_ind,:], label[v_ind]\n",
    "        \n",
    "        training = xgb.DMatrix(xtrain, ytrain)\n",
    "        testing = xgb.DMatrix(xval, yval)\n",
    "        model = xgb.train(param , training, evals = [(training, 'training'),(testing, 'testing')],\n",
    "                         num_boost_round = 400, early_stopping_rounds = 50, verbose_eval = 5)\n",
    "        predicted.loc[v_ind,'Answer'] = model.predict(testing, ntree_limit= model.best_ntree_limit)\n",
    "        predicted_test.loc[:,i] = model.predict(xgb.DMatrix(testset), ntree_limit= model.best_ntree_limit)\n",
    "            \n",
    "        print(\"RMSLE : \", (mean_squared_error(model.predict(testing, ntree_limit= model.best_ntree_limit), yval))**(1/2))\n",
    "        rmse.append((mean_squared_error(model.predict(testing, ntree_limit= model.best_ntree_limit), yval))**(1/2))\n",
    "\n",
    "    print('Mean RMSLE Error is : %s ' %(np.mean(np.array(rmse))))\n",
    "    return(predicted , predicted_test)"
   ]
  },
  {
   "cell_type": "code",
   "execution_count": 33,
   "metadata": {},
   "outputs": [
    {
     "name": "stdout",
     "output_type": "stream",
     "text": [
      "[17:08:15] WARNING: src/objective/regression_obj.cu:152: reg:linear is now deprecated in favor of reg:squarederror.\n",
      "[0]\ttraining-rmse:9.19359\ttesting-rmse:9.22242\n",
      "Multiple eval metrics have been passed: 'testing-rmse' will be used for early stopping.\n",
      "\n",
      "Will train until testing-rmse hasn't improved in 50 rounds.\n",
      "[5]\ttraining-rmse:8.31784\ttesting-rmse:8.34531\n",
      "[10]\ttraining-rmse:7.52729\ttesting-rmse:7.55301\n",
      "[15]\ttraining-rmse:6.81191\ttesting-rmse:6.83691\n",
      "[20]\ttraining-rmse:6.16624\ttesting-rmse:6.18918\n",
      "[25]\ttraining-rmse:5.58244\ttesting-rmse:5.60401\n",
      "[30]\ttraining-rmse:5.05447\ttesting-rmse:5.07549\n",
      "[35]\ttraining-rmse:4.57831\ttesting-rmse:4.59866\n",
      "[40]\ttraining-rmse:4.14761\ttesting-rmse:4.16703\n",
      "[45]\ttraining-rmse:3.75894\ttesting-rmse:3.77716\n",
      "[50]\ttraining-rmse:3.40723\ttesting-rmse:3.42483\n",
      "[55]\ttraining-rmse:3.08982\ttesting-rmse:3.10687\n",
      "[60]\ttraining-rmse:2.80286\ttesting-rmse:2.81893\n",
      "[65]\ttraining-rmse:2.54427\ttesting-rmse:2.55911\n",
      "[70]\ttraining-rmse:2.31034\ttesting-rmse:2.32461\n",
      "[75]\ttraining-rmse:2.09914\ttesting-rmse:2.11271\n",
      "[80]\ttraining-rmse:1.90856\ttesting-rmse:1.92188\n",
      "[85]\ttraining-rmse:1.73656\ttesting-rmse:1.74971\n",
      "[90]\ttraining-rmse:1.58139\ttesting-rmse:1.59455\n",
      "[95]\ttraining-rmse:1.44205\ttesting-rmse:1.45538\n",
      "[100]\ttraining-rmse:1.31637\ttesting-rmse:1.3302\n",
      "[105]\ttraining-rmse:1.20241\ttesting-rmse:1.21729\n",
      "[110]\ttraining-rmse:1.10062\ttesting-rmse:1.11593\n",
      "[115]\ttraining-rmse:1.00885\ttesting-rmse:1.02527\n",
      "[120]\ttraining-rmse:0.926452\ttesting-rmse:0.944289\n",
      "[125]\ttraining-rmse:0.852759\ttesting-rmse:0.87241\n",
      "[130]\ttraining-rmse:0.786546\ttesting-rmse:0.808312\n",
      "[135]\ttraining-rmse:0.726726\ttesting-rmse:0.750296\n",
      "[140]\ttraining-rmse:0.673302\ttesting-rmse:0.699586\n",
      "[145]\ttraining-rmse:0.625968\ttesting-rmse:0.65542\n",
      "[150]\ttraining-rmse:0.583724\ttesting-rmse:0.616793\n",
      "[155]\ttraining-rmse:0.546516\ttesting-rmse:0.582807\n",
      "[160]\ttraining-rmse:0.513139\ttesting-rmse:0.552986\n",
      "[165]\ttraining-rmse:0.483718\ttesting-rmse:0.526619\n",
      "[170]\ttraining-rmse:0.456664\ttesting-rmse:0.504684\n",
      "[175]\ttraining-rmse:0.432663\ttesting-rmse:0.485045\n",
      "[180]\ttraining-rmse:0.411908\ttesting-rmse:0.467934\n",
      "[185]\ttraining-rmse:0.392784\ttesting-rmse:0.45359\n",
      "[190]\ttraining-rmse:0.37663\ttesting-rmse:0.440959\n",
      "[195]\ttraining-rmse:0.361548\ttesting-rmse:0.430343\n",
      "[200]\ttraining-rmse:0.348168\ttesting-rmse:0.421942\n",
      "[205]\ttraining-rmse:0.336611\ttesting-rmse:0.414356\n",
      "[210]\ttraining-rmse:0.326227\ttesting-rmse:0.407659\n",
      "[215]\ttraining-rmse:0.316837\ttesting-rmse:0.402455\n",
      "[220]\ttraining-rmse:0.308346\ttesting-rmse:0.397935\n",
      "[225]\ttraining-rmse:0.300789\ttesting-rmse:0.393806\n",
      "[230]\ttraining-rmse:0.293832\ttesting-rmse:0.390104\n",
      "[235]\ttraining-rmse:0.287281\ttesting-rmse:0.38766\n",
      "[240]\ttraining-rmse:0.280958\ttesting-rmse:0.385395\n",
      "[245]\ttraining-rmse:0.275832\ttesting-rmse:0.383978\n",
      "[250]\ttraining-rmse:0.270771\ttesting-rmse:0.382285\n",
      "[255]\ttraining-rmse:0.266317\ttesting-rmse:0.381003\n",
      "[260]\ttraining-rmse:0.26213\ttesting-rmse:0.379742\n",
      "[265]\ttraining-rmse:0.258525\ttesting-rmse:0.378417\n",
      "[270]\ttraining-rmse:0.255144\ttesting-rmse:0.377261\n",
      "[275]\ttraining-rmse:0.251498\ttesting-rmse:0.37654\n",
      "[280]\ttraining-rmse:0.247913\ttesting-rmse:0.375819\n",
      "[285]\ttraining-rmse:0.24412\ttesting-rmse:0.37526\n",
      "[290]\ttraining-rmse:0.241453\ttesting-rmse:0.374903\n",
      "[295]\ttraining-rmse:0.238037\ttesting-rmse:0.374395\n",
      "[300]\ttraining-rmse:0.235339\ttesting-rmse:0.374117\n",
      "[305]\ttraining-rmse:0.232849\ttesting-rmse:0.373782\n",
      "[310]\ttraining-rmse:0.230429\ttesting-rmse:0.373671\n",
      "[315]\ttraining-rmse:0.227917\ttesting-rmse:0.373677\n",
      "[320]\ttraining-rmse:0.225865\ttesting-rmse:0.373413\n",
      "[325]\ttraining-rmse:0.223463\ttesting-rmse:0.373221\n",
      "[330]\ttraining-rmse:0.221499\ttesting-rmse:0.373271\n",
      "[335]\ttraining-rmse:0.219241\ttesting-rmse:0.373068\n",
      "[340]\ttraining-rmse:0.216895\ttesting-rmse:0.372824\n",
      "[345]\ttraining-rmse:0.214101\ttesting-rmse:0.372579\n",
      "[350]\ttraining-rmse:0.21208\ttesting-rmse:0.37253\n",
      "[355]\ttraining-rmse:0.210309\ttesting-rmse:0.372419\n",
      "[360]\ttraining-rmse:0.208222\ttesting-rmse:0.372548\n",
      "[365]\ttraining-rmse:0.20653\ttesting-rmse:0.372379\n",
      "[370]\ttraining-rmse:0.204079\ttesting-rmse:0.372352\n",
      "[375]\ttraining-rmse:0.201565\ttesting-rmse:0.372412\n",
      "[380]\ttraining-rmse:0.20019\ttesting-rmse:0.372462\n",
      "[385]\ttraining-rmse:0.197916\ttesting-rmse:0.372305\n",
      "[390]\ttraining-rmse:0.196756\ttesting-rmse:0.372402\n",
      "[395]\ttraining-rmse:0.194437\ttesting-rmse:0.372112\n",
      "[399]\ttraining-rmse:0.193264\ttesting-rmse:0.372109\n",
      "RMSLE :  0.37205491398364804\n",
      "[17:08:24] WARNING: src/objective/regression_obj.cu:152: reg:linear is now deprecated in favor of reg:squarederror.\n",
      "[0]\ttraining-rmse:9.205\ttesting-rmse:9.20082\n",
      "Multiple eval metrics have been passed: 'testing-rmse' will be used for early stopping.\n",
      "\n",
      "Will train until testing-rmse hasn't improved in 50 rounds.\n",
      "[5]\ttraining-rmse:8.3281\ttesting-rmse:8.32509\n",
      "[10]\ttraining-rmse:7.53627\ttesting-rmse:7.53503\n",
      "[15]\ttraining-rmse:6.82035\ttesting-rmse:6.81992\n",
      "[20]\ttraining-rmse:6.17318\ttesting-rmse:6.17402\n",
      "[25]\ttraining-rmse:5.58844\ttesting-rmse:5.58975\n",
      "[30]\ttraining-rmse:5.05993\ttesting-rmse:5.06227\n",
      "[35]\ttraining-rmse:4.5828\ttesting-rmse:4.58556\n",
      "[40]\ttraining-rmse:4.1518\ttesting-rmse:4.15545\n",
      "[45]\ttraining-rmse:3.76204\ttesting-rmse:3.76696\n",
      "[50]\ttraining-rmse:3.40937\ttesting-rmse:3.41509\n",
      "[55]\ttraining-rmse:3.09177\ttesting-rmse:3.09782\n",
      "[60]\ttraining-rmse:2.80505\ttesting-rmse:2.81155\n",
      "[65]\ttraining-rmse:2.54664\ttesting-rmse:2.55392\n",
      "[70]\ttraining-rmse:2.31301\ttesting-rmse:2.32095\n",
      "[75]\ttraining-rmse:2.10174\ttesting-rmse:2.11076\n",
      "[80]\ttraining-rmse:1.91161\ttesting-rmse:1.92163\n",
      "[85]\ttraining-rmse:1.73967\ttesting-rmse:1.75083\n",
      "[90]\ttraining-rmse:1.58446\ttesting-rmse:1.59618\n",
      "[95]\ttraining-rmse:1.44516\ttesting-rmse:1.45791\n",
      "[100]\ttraining-rmse:1.31924\ttesting-rmse:1.33312\n",
      "[105]\ttraining-rmse:1.20526\ttesting-rmse:1.22095\n",
      "[110]\ttraining-rmse:1.10339\ttesting-rmse:1.12109\n",
      "[115]\ttraining-rmse:1.01171\ttesting-rmse:1.03074\n",
      "[120]\ttraining-rmse:0.929046\ttesting-rmse:0.950217\n",
      "[125]\ttraining-rmse:0.854859\ttesting-rmse:0.878188\n",
      "[130]\ttraining-rmse:0.788326\ttesting-rmse:0.813443\n",
      "[135]\ttraining-rmse:0.728477\ttesting-rmse:0.755572\n",
      "[140]\ttraining-rmse:0.674805\ttesting-rmse:0.705282\n",
      "[145]\ttraining-rmse:0.6269\ttesting-rmse:0.660204\n",
      "[150]\ttraining-rmse:0.58471\ttesting-rmse:0.620723\n",
      "[155]\ttraining-rmse:0.54652\ttesting-rmse:0.586101\n",
      "[160]\ttraining-rmse:0.512918\ttesting-rmse:0.555406\n",
      "[165]\ttraining-rmse:0.483135\ttesting-rmse:0.528669\n",
      "[170]\ttraining-rmse:0.456678\ttesting-rmse:0.505971\n",
      "[175]\ttraining-rmse:0.432963\ttesting-rmse:0.486179\n",
      "[180]\ttraining-rmse:0.412353\ttesting-rmse:0.468946\n",
      "[185]\ttraining-rmse:0.393558\ttesting-rmse:0.454286\n",
      "[190]\ttraining-rmse:0.377489\ttesting-rmse:0.442139\n",
      "[195]\ttraining-rmse:0.362656\ttesting-rmse:0.431472\n",
      "[200]\ttraining-rmse:0.349884\ttesting-rmse:0.422561\n",
      "[205]\ttraining-rmse:0.338371\ttesting-rmse:0.415419\n",
      "[210]\ttraining-rmse:0.328269\ttesting-rmse:0.40876\n",
      "[215]\ttraining-rmse:0.318644\ttesting-rmse:0.402725\n",
      "[220]\ttraining-rmse:0.309872\ttesting-rmse:0.397978\n",
      "[225]\ttraining-rmse:0.302479\ttesting-rmse:0.39437\n",
      "[230]\ttraining-rmse:0.295932\ttesting-rmse:0.390855\n",
      "[235]\ttraining-rmse:0.289846\ttesting-rmse:0.387828\n",
      "[240]\ttraining-rmse:0.284195\ttesting-rmse:0.384848\n",
      "[245]\ttraining-rmse:0.278549\ttesting-rmse:0.383246\n",
      "[250]\ttraining-rmse:0.273002\ttesting-rmse:0.381248\n",
      "[255]\ttraining-rmse:0.268451\ttesting-rmse:0.379709\n",
      "[260]\ttraining-rmse:0.264297\ttesting-rmse:0.378062\n",
      "[265]\ttraining-rmse:0.259981\ttesting-rmse:0.376533\n",
      "[270]\ttraining-rmse:0.256501\ttesting-rmse:0.375722\n",
      "[275]\ttraining-rmse:0.253325\ttesting-rmse:0.374723\n",
      "[280]\ttraining-rmse:0.250496\ttesting-rmse:0.373894\n",
      "[285]\ttraining-rmse:0.247439\ttesting-rmse:0.373277\n",
      "[290]\ttraining-rmse:0.244162\ttesting-rmse:0.372712\n",
      "[295]\ttraining-rmse:0.240726\ttesting-rmse:0.372285\n",
      "[300]\ttraining-rmse:0.237865\ttesting-rmse:0.371754\n",
      "[305]\ttraining-rmse:0.235113\ttesting-rmse:0.371251\n",
      "[310]\ttraining-rmse:0.232625\ttesting-rmse:0.370604\n",
      "[315]\ttraining-rmse:0.230358\ttesting-rmse:0.370411\n",
      "[320]\ttraining-rmse:0.228083\ttesting-rmse:0.370089\n",
      "[325]\ttraining-rmse:0.22493\ttesting-rmse:0.369919\n",
      "[330]\ttraining-rmse:0.222997\ttesting-rmse:0.369599\n",
      "[335]\ttraining-rmse:0.220607\ttesting-rmse:0.369338\n",
      "[340]\ttraining-rmse:0.218182\ttesting-rmse:0.369195\n",
      "[345]\ttraining-rmse:0.215853\ttesting-rmse:0.36892\n",
      "[350]\ttraining-rmse:0.213599\ttesting-rmse:0.369072\n",
      "[355]\ttraining-rmse:0.211474\ttesting-rmse:0.368732\n"
     ]
    },
    {
     "name": "stdout",
     "output_type": "stream",
     "text": [
      "[360]\ttraining-rmse:0.209777\ttesting-rmse:0.368629\n",
      "[365]\ttraining-rmse:0.207691\ttesting-rmse:0.368417\n",
      "[370]\ttraining-rmse:0.205114\ttesting-rmse:0.368202\n",
      "[375]\ttraining-rmse:0.202543\ttesting-rmse:0.368224\n",
      "[380]\ttraining-rmse:0.200677\ttesting-rmse:0.368379\n",
      "[385]\ttraining-rmse:0.198605\ttesting-rmse:0.368476\n",
      "[390]\ttraining-rmse:0.196479\ttesting-rmse:0.368507\n",
      "[395]\ttraining-rmse:0.195152\ttesting-rmse:0.368274\n",
      "[399]\ttraining-rmse:0.193308\ttesting-rmse:0.368038\n",
      "RMSLE :  0.3680384161693006\n",
      "[17:08:33] WARNING: src/objective/regression_obj.cu:152: reg:linear is now deprecated in favor of reg:squarederror.\n",
      "[0]\ttraining-rmse:9.21096\ttesting-rmse:9.18627\n",
      "Multiple eval metrics have been passed: 'testing-rmse' will be used for early stopping.\n",
      "\n",
      "Will train until testing-rmse hasn't improved in 50 rounds.\n",
      "[5]\ttraining-rmse:8.33419\ttesting-rmse:8.31005\n",
      "[10]\ttraining-rmse:7.54044\ttesting-rmse:7.51681\n",
      "[15]\ttraining-rmse:6.82386\ttesting-rmse:6.80019\n",
      "[20]\ttraining-rmse:6.17684\ttesting-rmse:6.15306\n",
      "[25]\ttraining-rmse:5.59222\ttesting-rmse:5.56852\n",
      "[30]\ttraining-rmse:5.06371\ttesting-rmse:5.04047\n",
      "[35]\ttraining-rmse:4.58668\ttesting-rmse:4.56374\n",
      "[40]\ttraining-rmse:4.15514\ttesting-rmse:4.1329\n",
      "[45]\ttraining-rmse:3.76509\ttesting-rmse:3.7439\n",
      "[50]\ttraining-rmse:3.41307\ttesting-rmse:3.39234\n",
      "[55]\ttraining-rmse:3.09492\ttesting-rmse:3.0751\n",
      "[60]\ttraining-rmse:2.80743\ttesting-rmse:2.78816\n",
      "[65]\ttraining-rmse:2.5481\ttesting-rmse:2.5295\n",
      "[70]\ttraining-rmse:2.31391\ttesting-rmse:2.29684\n",
      "[75]\ttraining-rmse:2.10252\ttesting-rmse:2.08659\n",
      "[80]\ttraining-rmse:1.91144\ttesting-rmse:1.89655\n",
      "[85]\ttraining-rmse:1.73948\ttesting-rmse:1.72607\n",
      "[90]\ttraining-rmse:1.58389\ttesting-rmse:1.57183\n",
      "[95]\ttraining-rmse:1.44442\ttesting-rmse:1.43433\n",
      "[100]\ttraining-rmse:1.31853\ttesting-rmse:1.31097\n",
      "[105]\ttraining-rmse:1.20478\ttesting-rmse:1.19932\n",
      "[110]\ttraining-rmse:1.1023\ttesting-rmse:1.09964\n",
      "[115]\ttraining-rmse:1.01027\ttesting-rmse:1.01058\n",
      "[120]\ttraining-rmse:0.927852\ttesting-rmse:0.930871\n",
      "[125]\ttraining-rmse:0.85373\ttesting-rmse:0.860704\n",
      "[130]\ttraining-rmse:0.787213\ttesting-rmse:0.798265\n",
      "[135]\ttraining-rmse:0.727434\ttesting-rmse:0.742133\n",
      "[140]\ttraining-rmse:0.674481\ttesting-rmse:0.693099\n",
      "[145]\ttraining-rmse:0.62689\ttesting-rmse:0.64951\n",
      "[150]\ttraining-rmse:0.584346\ttesting-rmse:0.611133\n",
      "[155]\ttraining-rmse:0.547024\ttesting-rmse:0.578278\n",
      "[160]\ttraining-rmse:0.513667\ttesting-rmse:0.549131\n",
      "[165]\ttraining-rmse:0.483711\ttesting-rmse:0.524009\n",
      "[170]\ttraining-rmse:0.457102\ttesting-rmse:0.502368\n",
      "[175]\ttraining-rmse:0.433592\ttesting-rmse:0.483805\n",
      "[180]\ttraining-rmse:0.412928\ttesting-rmse:0.467402\n",
      "[185]\ttraining-rmse:0.394253\ttesting-rmse:0.453536\n",
      "[190]\ttraining-rmse:0.378348\ttesting-rmse:0.442046\n",
      "[195]\ttraining-rmse:0.363816\ttesting-rmse:0.431857\n",
      "[200]\ttraining-rmse:0.351623\ttesting-rmse:0.423799\n",
      "[205]\ttraining-rmse:0.340382\ttesting-rmse:0.416675\n",
      "[210]\ttraining-rmse:0.330448\ttesting-rmse:0.41067\n",
      "[215]\ttraining-rmse:0.322034\ttesting-rmse:0.405562\n",
      "[220]\ttraining-rmse:0.313582\ttesting-rmse:0.401479\n",
      "[225]\ttraining-rmse:0.305736\ttesting-rmse:0.397472\n",
      "[230]\ttraining-rmse:0.29878\ttesting-rmse:0.394469\n",
      "[235]\ttraining-rmse:0.293616\ttesting-rmse:0.392106\n",
      "[240]\ttraining-rmse:0.287472\ttesting-rmse:0.390256\n",
      "[245]\ttraining-rmse:0.282407\ttesting-rmse:0.388898\n",
      "[250]\ttraining-rmse:0.277604\ttesting-rmse:0.387048\n",
      "[255]\ttraining-rmse:0.273169\ttesting-rmse:0.385407\n",
      "[260]\ttraining-rmse:0.269085\ttesting-rmse:0.383951\n",
      "[265]\ttraining-rmse:0.265041\ttesting-rmse:0.382965\n",
      "[270]\ttraining-rmse:0.261269\ttesting-rmse:0.382114\n",
      "[275]\ttraining-rmse:0.25838\ttesting-rmse:0.381363\n",
      "[280]\ttraining-rmse:0.255402\ttesting-rmse:0.380397\n",
      "[285]\ttraining-rmse:0.251912\ttesting-rmse:0.379714\n",
      "[290]\ttraining-rmse:0.248725\ttesting-rmse:0.379118\n",
      "[295]\ttraining-rmse:0.246379\ttesting-rmse:0.378556\n",
      "[300]\ttraining-rmse:0.243259\ttesting-rmse:0.378322\n",
      "[305]\ttraining-rmse:0.240516\ttesting-rmse:0.377869\n",
      "[310]\ttraining-rmse:0.238329\ttesting-rmse:0.37757\n",
      "[315]\ttraining-rmse:0.235643\ttesting-rmse:0.377238\n",
      "[320]\ttraining-rmse:0.232904\ttesting-rmse:0.37723\n",
      "[325]\ttraining-rmse:0.23112\ttesting-rmse:0.37677\n",
      "[330]\ttraining-rmse:0.228863\ttesting-rmse:0.376464\n",
      "[335]\ttraining-rmse:0.22702\ttesting-rmse:0.376434\n",
      "[340]\ttraining-rmse:0.225371\ttesting-rmse:0.376386\n",
      "[345]\ttraining-rmse:0.223412\ttesting-rmse:0.376046\n",
      "[350]\ttraining-rmse:0.221135\ttesting-rmse:0.375857\n",
      "[355]\ttraining-rmse:0.219395\ttesting-rmse:0.375616\n",
      "[360]\ttraining-rmse:0.217542\ttesting-rmse:0.375403\n",
      "[365]\ttraining-rmse:0.215829\ttesting-rmse:0.375157\n",
      "[370]\ttraining-rmse:0.212877\ttesting-rmse:0.375101\n",
      "[375]\ttraining-rmse:0.210481\ttesting-rmse:0.375311\n",
      "[380]\ttraining-rmse:0.208675\ttesting-rmse:0.375118\n",
      "[385]\ttraining-rmse:0.207098\ttesting-rmse:0.375116\n",
      "[390]\ttraining-rmse:0.20518\ttesting-rmse:0.375133\n",
      "[395]\ttraining-rmse:0.20329\ttesting-rmse:0.374832\n",
      "[399]\ttraining-rmse:0.201789\ttesting-rmse:0.374802\n",
      "RMSLE :  0.37479530157362523\n",
      "Mean RMSLE Error is : 0.37162954390885794 \n"
     ]
    }
   ],
   "source": [
    "param = dict()\n",
    "param['objective'] = 'reg:linear'\n",
    "param['metric'] = 'rmse'\n",
    "param['learning_rate'] = 0.02\n",
    "param['colsample_bytree'] = 0.4 \n",
    "param['max_depth'] = 10\n",
    "param['reg_lambda'] = 2\n",
    "param['subsample'] = 0.8\n",
    "param['random_state']  = 456\n",
    "param['n_jobs'] = -1\n",
    "\n",
    "xg_train, xg_test = folds(train, train_label, xgb, xg_boost = True, param = param, testset = test, seed = 34335, split=3)"
   ]
  },
  {
   "cell_type": "code",
   "execution_count": 34,
   "metadata": {},
   "outputs": [],
   "source": [
    "temp = np.mean(xg_test, axis = 1)\n",
    "temp = pd.concat([temp, dup_ans], axis = 0).sort_index()"
   ]
  },
  {
   "cell_type": "code",
   "execution_count": 35,
   "metadata": {},
   "outputs": [],
   "source": [
    "sample.Price = np.exp(temp)-1"
   ]
  },
  {
   "cell_type": "code",
   "execution_count": 36,
   "metadata": {},
   "outputs": [],
   "source": [
    "sample.to_excel('XGB_2STD.xlsx', index = False)"
   ]
  },
  {
   "cell_type": "code",
   "execution_count": 37,
   "metadata": {},
   "outputs": [
    {
     "data": {
      "text/plain": [
       "0      11085.508437\n",
       "1       8110.279434\n",
       "2      13582.849760\n",
       "3      44365.888614\n",
       "4       8418.857625\n",
       "           ...     \n",
       "992    19784.280272\n",
       "993    19036.337242\n",
       "994    12296.478788\n",
       "995    12027.634330\n",
       "996    25143.532200\n",
       "Name: Price, Length: 997, dtype: float64"
      ]
     },
     "execution_count": 37,
     "metadata": {},
     "output_type": "execute_result"
    }
   ],
   "source": [
    "sample.Price"
   ]
  },
  {
   "cell_type": "code",
   "execution_count": null,
   "metadata": {},
   "outputs": [],
   "source": []
  }
 ],
 "metadata": {
  "kernelspec": {
   "display_name": "Python 3",
   "language": "python",
   "name": "python3"
  },
  "language_info": {
   "codemirror_mode": {
    "name": "ipython",
    "version": 3
   },
   "file_extension": ".py",
   "mimetype": "text/x-python",
   "name": "python",
   "nbconvert_exporter": "python",
   "pygments_lexer": "ipython3",
   "version": "3.7.7"
  }
 },
 "nbformat": 4,
 "nbformat_minor": 4
}
